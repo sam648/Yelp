{
 "cells": [
  {
   "cell_type": "code",
   "execution_count": 1,
   "metadata": {
    "collapsed": true
   },
   "outputs": [],
   "source": [
    "import os\n",
    "import pandas as pd\n",
    "import numpy as np"
   ]
  },
  {
   "cell_type": "code",
   "execution_count": 2,
   "metadata": {
    "collapsed": true
   },
   "outputs": [],
   "source": [
    "#setting working directory\n",
    "os.chdir('C:\\\\Users\\\\Samriddhi\\\\Desktop\\\\NYCDataScience\\\\MachineLearning\\\\capstone')"
   ]
  },
  {
   "cell_type": "code",
   "execution_count": 5,
   "metadata": {
    "collapsed": false
   },
   "outputs": [
    {
     "data": {
      "text/html": [
       "<div>\n",
       "<table border=\"1\" class=\"dataframe\">\n",
       "  <thead>\n",
       "    <tr style=\"text-align: right;\">\n",
       "      <th></th>\n",
       "      <th>business_id</th>\n",
       "      <th>text</th>\n",
       "      <th>stars_of_business</th>\n",
       "      <th>categories</th>\n",
       "      <th>stars_of_individual_review</th>\n",
       "      <th>AVG_stars_category</th>\n",
       "      <th>AVG_stars_category_round</th>\n",
       "    </tr>\n",
       "  </thead>\n",
       "  <tbody>\n",
       "    <tr>\n",
       "      <th>0</th>\n",
       "      <td>x5Mv61CnZLohZWxfCVCPTQ</td>\n",
       "      <td>Not the same Domino's pizza I ate too much of ...</td>\n",
       "      <td>3.0</td>\n",
       "      <td>Chicken Wings</td>\n",
       "      <td>4</td>\n",
       "      <td>3.104846</td>\n",
       "      <td>3.0</td>\n",
       "    </tr>\n",
       "    <tr>\n",
       "      <th>1</th>\n",
       "      <td>x5Mv61CnZLohZWxfCVCPTQ</td>\n",
       "      <td>Easy ordering-on-line. Made exactly as I asked...</td>\n",
       "      <td>3.0</td>\n",
       "      <td>Chicken Wings</td>\n",
       "      <td>4</td>\n",
       "      <td>3.104846</td>\n",
       "      <td>3.0</td>\n",
       "    </tr>\n",
       "    <tr>\n",
       "      <th>2</th>\n",
       "      <td>x5Mv61CnZLohZWxfCVCPTQ</td>\n",
       "      <td>OK OK... as a Proud Italian I hope my momma do...</td>\n",
       "      <td>3.0</td>\n",
       "      <td>Chicken Wings</td>\n",
       "      <td>5</td>\n",
       "      <td>3.104846</td>\n",
       "      <td>3.0</td>\n",
       "    </tr>\n",
       "  </tbody>\n",
       "</table>\n",
       "</div>"
      ],
      "text/plain": [
       "              business_id                                               text  \\\n",
       "0  x5Mv61CnZLohZWxfCVCPTQ  Not the same Domino's pizza I ate too much of ...   \n",
       "1  x5Mv61CnZLohZWxfCVCPTQ  Easy ordering-on-line. Made exactly as I asked...   \n",
       "2  x5Mv61CnZLohZWxfCVCPTQ  OK OK... as a Proud Italian I hope my momma do...   \n",
       "\n",
       "   stars_of_business     categories  stars_of_individual_review  \\\n",
       "0                3.0  Chicken Wings                           4   \n",
       "1                3.0  Chicken Wings                           4   \n",
       "2                3.0  Chicken Wings                           5   \n",
       "\n",
       "   AVG_stars_category  AVG_stars_category_round  \n",
       "0            3.104846                       3.0  \n",
       "1            3.104846                       3.0  \n",
       "2            3.104846                       3.0  "
      ]
     },
     "execution_count": 5,
     "metadata": {},
     "output_type": "execute_result"
    }
   ],
   "source": [
    "Business_Review_Positve_AZ = pd.read_csv('Rdata\\\\Joshua\\\\LDA\\\\Revise_NLP_table_positive.csv')\n",
    "Business_Review_Positve_AZ = Business_Review_Positve_AZ.iloc[:,1:]\n",
    "Business_Review_Positve_AZ.head(3)"
   ]
  },
  {
   "cell_type": "code",
   "execution_count": 6,
   "metadata": {
    "collapsed": false
   },
   "outputs": [
    {
     "data": {
      "text/plain": [
       "358670"
      ]
     },
     "execution_count": 6,
     "metadata": {},
     "output_type": "execute_result"
    }
   ],
   "source": [
    "len(Business_Review_Positve_AZ)"
   ]
  },
  {
   "cell_type": "code",
   "execution_count": 7,
   "metadata": {
    "collapsed": false
   },
   "outputs": [
    {
     "data": {
      "text/plain": [
       "[('x5Mv61CnZLohZWxfCVCPTQ',\n",
       "  \"Not the same Domino's pizza I ate too much of in College. Vastly different and a major improvement! Ordering on-line couldn't be easier, and pizza was made exactly how I ordered. Piping hot, flavorful, better than average crust, nicely blackened in all the right spots, tasty toppings, robust sauce. Friendly delivery by John. Price is fair. Much, much better than Pizza Hut!\"),\n",
       " ('x5Mv61CnZLohZWxfCVCPTQ',\n",
       "  \"Easy ordering-on-line. Made exactly as I asked for. Piping hot. Sauce is SO, SO much better than their old stuff. Crust is like having an order of buttery-garlic soft bread sticks with your pizza. Delivery is super-fast, with charming, pleasant personality driver(s.) Our guests were apprehensive about eating Domino's from past experiences, and after the first bite, were practically inhaling pieces it was that good! I can tell that it is hand-made fresh. The dough is light and airy, the cheeses are tangy and savory, the meats are generous and better quality than most. My first choice in chain pizzas.\")]"
      ]
     },
     "execution_count": 7,
     "metadata": {},
     "output_type": "execute_result"
    }
   ],
   "source": [
    "#creating tuple of biz id and review\n",
    "tup_Biz_Positive_review = zip(Business_Review_Positve_AZ['business_id'] , Business_Review_Positve_AZ['text'] )\n",
    "tup_Biz_Positive_review[0:2]"
   ]
  },
  {
   "cell_type": "code",
   "execution_count": 8,
   "metadata": {
    "collapsed": true
   },
   "outputs": [],
   "source": [
    "from collections import defaultdict\n",
    "\n",
    "dict_Biz_Positive_review = {}\n",
    "for k,v in tup_Biz_Positive_review:\n",
    "    dict_Biz_Positive_review.setdefault(k,[]).append([v])"
   ]
  },
  {
   "cell_type": "code",
   "execution_count": 9,
   "metadata": {
    "collapsed": false
   },
   "outputs": [
    {
     "data": {
      "text/html": [
       "<div>\n",
       "<table border=\"1\" class=\"dataframe\">\n",
       "  <thead>\n",
       "    <tr style=\"text-align: right;\">\n",
       "      <th></th>\n",
       "      <th>business_id</th>\n",
       "      <th>text</th>\n",
       "    </tr>\n",
       "  </thead>\n",
       "  <tbody>\n",
       "    <tr>\n",
       "      <th>0</th>\n",
       "      <td>OlpyplEJ_c_hFxyand_Wxw</td>\n",
       "      <td>[[Excellent food. We had been eagerly looking ...</td>\n",
       "    </tr>\n",
       "    <tr>\n",
       "      <th>1</th>\n",
       "      <td>ny1T3dzXf8_ySXkFv37qwQ</td>\n",
       "      <td>[[Really good pizza and they do a ton of local...</td>\n",
       "    </tr>\n",
       "  </tbody>\n",
       "</table>\n",
       "</div>"
      ],
      "text/plain": [
       "              business_id                                               text\n",
       "0  OlpyplEJ_c_hFxyand_Wxw  [[Excellent food. We had been eagerly looking ...\n",
       "1  ny1T3dzXf8_ySXkFv37qwQ  [[Really good pizza and they do a ton of local..."
      ]
     },
     "execution_count": 9,
     "metadata": {},
     "output_type": "execute_result"
    }
   ],
   "source": [
    "biz_PostiveReview_df = pd.DataFrame(dict_Biz_Positive_review.items(), columns =[\"business_id\", \"text\"])\n",
    "biz_PostiveReview_df.head(2)"
   ]
  },
  {
   "cell_type": "code",
   "execution_count": 13,
   "metadata": {
    "collapsed": false
   },
   "outputs": [
    {
     "data": {
      "text/html": [
       "<div>\n",
       "<table border=\"1\" class=\"dataframe\">\n",
       "  <thead>\n",
       "    <tr style=\"text-align: right;\">\n",
       "      <th></th>\n",
       "      <th>business_id</th>\n",
       "      <th>stars_of_business</th>\n",
       "      <th>categories</th>\n",
       "      <th>AVG_stars_category</th>\n",
       "      <th>AVG_stars_category_round</th>\n",
       "    </tr>\n",
       "  </thead>\n",
       "  <tbody>\n",
       "    <tr>\n",
       "      <th>0</th>\n",
       "      <td>x5Mv61CnZLohZWxfCVCPTQ</td>\n",
       "      <td>3.0</td>\n",
       "      <td>Chicken Wings</td>\n",
       "      <td>3.104846</td>\n",
       "      <td>3.0</td>\n",
       "    </tr>\n",
       "    <tr>\n",
       "      <th>1</th>\n",
       "      <td>x5Mv61CnZLohZWxfCVCPTQ</td>\n",
       "      <td>3.0</td>\n",
       "      <td>Chicken Wings</td>\n",
       "      <td>3.104846</td>\n",
       "      <td>3.0</td>\n",
       "    </tr>\n",
       "  </tbody>\n",
       "</table>\n",
       "</div>"
      ],
      "text/plain": [
       "              business_id  stars_of_business     categories  \\\n",
       "0  x5Mv61CnZLohZWxfCVCPTQ                3.0  Chicken Wings   \n",
       "1  x5Mv61CnZLohZWxfCVCPTQ                3.0  Chicken Wings   \n",
       "\n",
       "   AVG_stars_category  AVG_stars_category_round  \n",
       "0            3.104846                       3.0  \n",
       "1            3.104846                       3.0  "
      ]
     },
     "execution_count": 13,
     "metadata": {},
     "output_type": "execute_result"
    }
   ],
   "source": [
    "biz_category_Positive = Business_Review_Positve_AZ.iloc[:,[0,2,3,5,6]]\n"
   ]
  },
  {
   "cell_type": "code",
   "execution_count": 16,
   "metadata": {
    "collapsed": false
   },
   "outputs": [
    {
     "data": {
      "text/html": [
       "<div>\n",
       "<table border=\"1\" class=\"dataframe\">\n",
       "  <thead>\n",
       "    <tr>\n",
       "      <th></th>\n",
       "      <th></th>\n",
       "      <th>stars_of_business</th>\n",
       "      <th>AVG_stars_category</th>\n",
       "      <th>AVG_stars_category_round</th>\n",
       "      <th>business_id</th>\n",
       "      <th>categories</th>\n",
       "    </tr>\n",
       "    <tr>\n",
       "      <th></th>\n",
       "      <th></th>\n",
       "      <th>mean</th>\n",
       "      <th>mean</th>\n",
       "      <th>mean</th>\n",
       "      <th></th>\n",
       "      <th></th>\n",
       "    </tr>\n",
       "    <tr>\n",
       "      <th>business_id</th>\n",
       "      <th>categories</th>\n",
       "      <th></th>\n",
       "      <th></th>\n",
       "      <th></th>\n",
       "      <th></th>\n",
       "      <th></th>\n",
       "    </tr>\n",
       "  </thead>\n",
       "  <tbody>\n",
       "    <tr>\n",
       "      <th>--5jkZ3-nUPZxUvtcbr8Uw</th>\n",
       "      <th>Greek</th>\n",
       "      <td>4.5</td>\n",
       "      <td>3.963733</td>\n",
       "      <td>4.0</td>\n",
       "      <td>--5jkZ3-nUPZxUvtcbr8Uw</td>\n",
       "      <td>Greek</td>\n",
       "    </tr>\n",
       "    <tr>\n",
       "      <th>--BlvDO_RG2yElKu9XA1_g</th>\n",
       "      <th>Chinese</th>\n",
       "      <td>4.0</td>\n",
       "      <td>3.618266</td>\n",
       "      <td>3.5</td>\n",
       "      <td>--BlvDO_RG2yElKu9XA1_g</td>\n",
       "      <td>Chinese</td>\n",
       "    </tr>\n",
       "  </tbody>\n",
       "</table>\n",
       "</div>"
      ],
      "text/plain": [
       "                                  stars_of_business AVG_stars_category  \\\n",
       "                                               mean               mean   \n",
       "business_id            categories                                        \n",
       "--5jkZ3-nUPZxUvtcbr8Uw Greek                    4.5           3.963733   \n",
       "--BlvDO_RG2yElKu9XA1_g Chinese                  4.0           3.618266   \n",
       "\n",
       "                                  AVG_stars_category_round  \\\n",
       "                                                      mean   \n",
       "business_id            categories                            \n",
       "--5jkZ3-nUPZxUvtcbr8Uw Greek                           4.0   \n",
       "--BlvDO_RG2yElKu9XA1_g Chinese                         3.5   \n",
       "\n",
       "                                              business_id categories  \n",
       "                                                                      \n",
       "business_id            categories                                     \n",
       "--5jkZ3-nUPZxUvtcbr8Uw Greek       --5jkZ3-nUPZxUvtcbr8Uw      Greek  \n",
       "--BlvDO_RG2yElKu9XA1_g Chinese     --BlvDO_RG2yElKu9XA1_g    Chinese  "
      ]
     },
     "execution_count": 16,
     "metadata": {},
     "output_type": "execute_result"
    }
   ],
   "source": [
    "#group by and creatint index for new format of table\n",
    "biz_category_Positive = Business_Review_Positve_AZ.iloc[:,[0,2,3,5,6]].groupby(['business_id','categories']).agg(['mean'])\n",
    "biz_category_Positive['business_id']=map(lambda x: x[0], biz_category_Positive.index)\n",
    "biz_category_Positive['categories']=map(lambda x: x[1], biz_category_Positive.index)\n",
    "biz_category_Positive.head(2)"
   ]
  },
  {
   "cell_type": "code",
   "execution_count": 17,
   "metadata": {
    "collapsed": false
   },
   "outputs": [
    {
     "data": {
      "text/html": [
       "<div>\n",
       "<table border=\"1\" class=\"dataframe\">\n",
       "  <thead>\n",
       "    <tr>\n",
       "      <th></th>\n",
       "      <th></th>\n",
       "      <th>stars_of_business</th>\n",
       "      <th>AVG_stars_category</th>\n",
       "      <th>AVG_stars_category_round</th>\n",
       "      <th>business_id</th>\n",
       "      <th>categories</th>\n",
       "    </tr>\n",
       "    <tr>\n",
       "      <th></th>\n",
       "      <th></th>\n",
       "      <th>mean</th>\n",
       "      <th>mean</th>\n",
       "      <th>mean</th>\n",
       "      <th></th>\n",
       "      <th></th>\n",
       "    </tr>\n",
       "    <tr>\n",
       "      <th>business_id</th>\n",
       "      <th>categories</th>\n",
       "      <th></th>\n",
       "      <th></th>\n",
       "      <th></th>\n",
       "      <th></th>\n",
       "      <th></th>\n",
       "    </tr>\n",
       "  </thead>\n",
       "  <tbody>\n",
       "    <tr>\n",
       "      <th>x5Mv61CnZLohZWxfCVCPTQ</th>\n",
       "      <th>Chicken Wings</th>\n",
       "      <td>3.0</td>\n",
       "      <td>3.104846</td>\n",
       "      <td>3.0</td>\n",
       "      <td>x5Mv61CnZLohZWxfCVCPTQ</td>\n",
       "      <td>Chicken Wings</td>\n",
       "    </tr>\n",
       "  </tbody>\n",
       "</table>\n",
       "</div>"
      ],
      "text/plain": [
       "                                     stars_of_business AVG_stars_category  \\\n",
       "                                                  mean               mean   \n",
       "business_id            categories                                           \n",
       "x5Mv61CnZLohZWxfCVCPTQ Chicken Wings               3.0           3.104846   \n",
       "\n",
       "                                     AVG_stars_category_round  \\\n",
       "                                                         mean   \n",
       "business_id            categories                               \n",
       "x5Mv61CnZLohZWxfCVCPTQ Chicken Wings                      3.0   \n",
       "\n",
       "                                                 business_id     categories  \n",
       "                                                                             \n",
       "business_id            categories                                            \n",
       "x5Mv61CnZLohZWxfCVCPTQ Chicken Wings  x5Mv61CnZLohZWxfCVCPTQ  Chicken Wings  "
      ]
     },
     "execution_count": 17,
     "metadata": {},
     "output_type": "execute_result"
    }
   ],
   "source": [
    "biz_category_Positive.loc[biz_category_Positive['business_id'] == 'x5Mv61CnZLohZWxfCVCPTQ']"
   ]
  },
  {
   "cell_type": "code",
   "execution_count": 18,
   "metadata": {
    "collapsed": false
   },
   "outputs": [
    {
     "name": "stderr",
     "output_type": "stream",
     "text": [
      "C:\\Users\\Samriddhi\\Anaconda2\\lib\\site-packages\\pandas\\tools\\merge.py:205: UserWarning: merging between different levels can give an unintended result (1 levels on the left, 2 on the right)\n",
      "  warnings.warn(msg, UserWarning)\n"
     ]
    },
    {
     "data": {
      "text/html": [
       "<div>\n",
       "<table border=\"1\" class=\"dataframe\">\n",
       "  <thead>\n",
       "    <tr style=\"text-align: right;\">\n",
       "      <th></th>\n",
       "      <th>business_id</th>\n",
       "      <th>text</th>\n",
       "      <th>(stars_of_business, mean)</th>\n",
       "      <th>(AVG_stars_category, mean)</th>\n",
       "      <th>(AVG_stars_category_round, mean)</th>\n",
       "      <th>(categories, )</th>\n",
       "    </tr>\n",
       "  </thead>\n",
       "  <tbody>\n",
       "    <tr>\n",
       "      <th>0</th>\n",
       "      <td>OlpyplEJ_c_hFxyand_Wxw</td>\n",
       "      <td>[[Excellent food. We had been eagerly looking ...</td>\n",
       "      <td>3.0</td>\n",
       "      <td>3.685509</td>\n",
       "      <td>3.5</td>\n",
       "      <td>Asian Fusion</td>\n",
       "    </tr>\n",
       "    <tr>\n",
       "      <th>1</th>\n",
       "      <td>ny1T3dzXf8_ySXkFv37qwQ</td>\n",
       "      <td>[[Really good pizza and they do a ton of local...</td>\n",
       "      <td>4.0</td>\n",
       "      <td>3.670256</td>\n",
       "      <td>3.5</td>\n",
       "      <td>Pizza</td>\n",
       "    </tr>\n",
       "  </tbody>\n",
       "</table>\n",
       "</div>"
      ],
      "text/plain": [
       "              business_id                                               text  \\\n",
       "0  OlpyplEJ_c_hFxyand_Wxw  [[Excellent food. We had been eagerly looking ...   \n",
       "1  ny1T3dzXf8_ySXkFv37qwQ  [[Really good pizza and they do a ton of local...   \n",
       "\n",
       "   (stars_of_business, mean)  (AVG_stars_category, mean)  \\\n",
       "0                        3.0                    3.685509   \n",
       "1                        4.0                    3.670256   \n",
       "\n",
       "   (AVG_stars_category_round, mean) (categories, )  \n",
       "0                               3.5   Asian Fusion  \n",
       "1                               3.5          Pizza  "
      ]
     },
     "execution_count": 18,
     "metadata": {},
     "output_type": "execute_result"
    }
   ],
   "source": [
    "#merging the two postive tables\n",
    "Biz_PostiveReview_Category_final = biz_PostiveReview_df.merge(biz_category_Positive,on=\"business_id\", how='left')\n",
    "Biz_PostiveReview_Category_final.head(2)"
   ]
  },
  {
   "cell_type": "code",
   "execution_count": 21,
   "metadata": {
    "collapsed": false
   },
   "outputs": [
    {
     "data": {
      "text/html": [
       "<div>\n",
       "<table border=\"1\" class=\"dataframe\">\n",
       "  <thead>\n",
       "    <tr style=\"text-align: right;\">\n",
       "      <th></th>\n",
       "      <th>business_id</th>\n",
       "      <th>text</th>\n",
       "      <th>stars_of_business</th>\n",
       "      <th>AVG_stars_category</th>\n",
       "      <th>AVG_stars_category_round</th>\n",
       "      <th>categories</th>\n",
       "    </tr>\n",
       "  </thead>\n",
       "  <tbody>\n",
       "    <tr>\n",
       "      <th>0</th>\n",
       "      <td>OlpyplEJ_c_hFxyand_Wxw</td>\n",
       "      <td>[[Excellent food. We had been eagerly looking ...</td>\n",
       "      <td>3.0</td>\n",
       "      <td>3.685509</td>\n",
       "      <td>3.5</td>\n",
       "      <td>Asian Fusion</td>\n",
       "    </tr>\n",
       "    <tr>\n",
       "      <th>1</th>\n",
       "      <td>ny1T3dzXf8_ySXkFv37qwQ</td>\n",
       "      <td>[[Really good pizza and they do a ton of local...</td>\n",
       "      <td>4.0</td>\n",
       "      <td>3.670256</td>\n",
       "      <td>3.5</td>\n",
       "      <td>Pizza</td>\n",
       "    </tr>\n",
       "  </tbody>\n",
       "</table>\n",
       "</div>"
      ],
      "text/plain": [
       "              business_id                                               text  \\\n",
       "0  OlpyplEJ_c_hFxyand_Wxw  [[Excellent food. We had been eagerly looking ...   \n",
       "1  ny1T3dzXf8_ySXkFv37qwQ  [[Really good pizza and they do a ton of local...   \n",
       "\n",
       "   stars_of_business  AVG_stars_category  \\\n",
       "0                3.0            3.685509   \n",
       "1                4.0            3.670256   \n",
       "\n",
       "                                       AVG_stars_category_round    categories  \n",
       "0                                                3.5             Asian Fusion  \n",
       "1                                                3.5                    Pizza  "
      ]
     },
     "execution_count": 21,
     "metadata": {},
     "output_type": "execute_result"
    }
   ],
   "source": [
    "#Renaming the columns\n",
    "Biz_PostiveReview_Category_final.columns = ['business_id','text','stars_of_business','AVG_stars_category','\\\n",
    "                                    AVG_stars_category_round','categories']\n",
    "Biz_PostiveReview_Category_final.head(2)"
   ]
  },
  {
   "cell_type": "code",
   "execution_count": 24,
   "metadata": {
    "collapsed": false
   },
   "outputs": [
    {
     "data": {
      "text/plain": [
       "9018"
      ]
     },
     "execution_count": 24,
     "metadata": {},
     "output_type": "execute_result"
    }
   ],
   "source": [
    "len(Biz_PostiveReview_Category_final)"
   ]
  },
  {
   "cell_type": "code",
   "execution_count": 22,
   "metadata": {
    "collapsed": true
   },
   "outputs": [],
   "source": [
    "#convert to scv\n",
    "Biz_PostiveReview_Category_final.to_csv(\"Rdata//Joshua//LDA//Biz_PostiveReview_Category_09162016.csv\", header=True)"
   ]
  },
  {
   "cell_type": "code",
   "execution_count": null,
   "metadata": {
    "collapsed": true
   },
   "outputs": [],
   "source": [
    "###################################################################################################################\n",
    "##################################################  Negative Review ###############################################3\n",
    "################################################################################################################33"
   ]
  },
  {
   "cell_type": "code",
   "execution_count": 25,
   "metadata": {
    "collapsed": false
   },
   "outputs": [
    {
     "data": {
      "text/html": [
       "<div>\n",
       "<table border=\"1\" class=\"dataframe\">\n",
       "  <thead>\n",
       "    <tr style=\"text-align: right;\">\n",
       "      <th></th>\n",
       "      <th>business_id</th>\n",
       "      <th>text</th>\n",
       "      <th>stars_of_business</th>\n",
       "      <th>categories</th>\n",
       "      <th>stars_of_individual_review</th>\n",
       "      <th>AVG_stars_category</th>\n",
       "      <th>AVG_stars_category_round</th>\n",
       "    </tr>\n",
       "  </thead>\n",
       "  <tbody>\n",
       "    <tr>\n",
       "      <th>0</th>\n",
       "      <td>x5Mv61CnZLohZWxfCVCPTQ</td>\n",
       "      <td>The pizza wasn't horrible,  but the deal was a...</td>\n",
       "      <td>3.0</td>\n",
       "      <td>Chicken Wings</td>\n",
       "      <td>2</td>\n",
       "      <td>3.104846</td>\n",
       "      <td>3.0</td>\n",
       "    </tr>\n",
       "  </tbody>\n",
       "</table>\n",
       "</div>"
      ],
      "text/plain": [
       "              business_id                                               text  \\\n",
       "0  x5Mv61CnZLohZWxfCVCPTQ  The pizza wasn't horrible,  but the deal was a...   \n",
       "\n",
       "   stars_of_business     categories  stars_of_individual_review  \\\n",
       "0                3.0  Chicken Wings                           2   \n",
       "\n",
       "   AVG_stars_category  AVG_stars_category_round  \n",
       "0            3.104846                       3.0  "
      ]
     },
     "execution_count": 25,
     "metadata": {},
     "output_type": "execute_result"
    }
   ],
   "source": [
    "Business_Review_Negative_AZ = pd.read_csv('Rdata\\\\Joshua\\\\LDA\\\\Revise_NLP_table_negative.csv')\n",
    "Business_Review_Negative_AZ = Business_Review_Negative_AZ.iloc[:,1:]\n",
    "Business_Review_Negative_AZ.head(1)"
   ]
  },
  {
   "cell_type": "code",
   "execution_count": 26,
   "metadata": {
    "collapsed": false
   },
   "outputs": [
    {
     "data": {
      "text/plain": [
       "[('x5Mv61CnZLohZWxfCVCPTQ',\n",
       "  \"The pizza wasn't horrible,  but the deal was awful.  The prices are extremely high at Dominos in general,  and their medium 2 topping is a rip off.  Low rating is for price vs.  Quality,  and value.\"),\n",
       " ('x5Mv61CnZLohZWxfCVCPTQ',\n",
       "  \"I normally don't have a problem with Dominos--you pretty much know what you're getting for your money.\\n\\nUnfortunately, this Dominos, even though it is less than 3 miles away, won't deliver to my address. Not only will they not deliver, but they will take my order, ask me what the cross-streets are (so they KNOW how far I am), and wait 30 minutes before calling to tell me that they cancelled my order.\\n\\nThey could have checked my address when I gave it to them, or they could have called and asked if I wanted to pick it up instead, but instead they simly cancelled my order--and didn't let me know until it was supposed to be at my door,\")]"
      ]
     },
     "execution_count": 26,
     "metadata": {},
     "output_type": "execute_result"
    }
   ],
   "source": [
    "#creating tuple of biz id and review\n",
    "tup_Biz_Negative_review = zip(Business_Review_Negative_AZ['business_id'] , Business_Review_Negative_AZ['text'] )\n",
    "tup_Biz_Negative_review[0:2]"
   ]
  },
  {
   "cell_type": "code",
   "execution_count": 27,
   "metadata": {
    "collapsed": true
   },
   "outputs": [],
   "source": [
    "from collections import defaultdict\n",
    "\n",
    "dict_Biz_Negative_review = {}\n",
    "for k,v in tup_Biz_Negative_review:\n",
    "    dict_Biz_Negative_review.setdefault(k,[]).append([v])"
   ]
  },
  {
   "cell_type": "code",
   "execution_count": 28,
   "metadata": {
    "collapsed": false
   },
   "outputs": [
    {
     "data": {
      "text/html": [
       "<div>\n",
       "<table border=\"1\" class=\"dataframe\">\n",
       "  <thead>\n",
       "    <tr style=\"text-align: right;\">\n",
       "      <th></th>\n",
       "      <th>business_id</th>\n",
       "      <th>text</th>\n",
       "    </tr>\n",
       "  </thead>\n",
       "  <tbody>\n",
       "    <tr>\n",
       "      <th>0</th>\n",
       "      <td>OlpyplEJ_c_hFxyand_Wxw</td>\n",
       "      <td>[[I drove to Inchins on their very first day a...</td>\n",
       "    </tr>\n",
       "    <tr>\n",
       "      <th>1</th>\n",
       "      <td>kDGN_1dlCmIqEoKflTwwdw</td>\n",
       "      <td>[[Stopped here to get some food real quick. I ...</td>\n",
       "    </tr>\n",
       "  </tbody>\n",
       "</table>\n",
       "</div>"
      ],
      "text/plain": [
       "              business_id                                               text\n",
       "0  OlpyplEJ_c_hFxyand_Wxw  [[I drove to Inchins on their very first day a...\n",
       "1  kDGN_1dlCmIqEoKflTwwdw  [[Stopped here to get some food real quick. I ..."
      ]
     },
     "execution_count": 28,
     "metadata": {},
     "output_type": "execute_result"
    }
   ],
   "source": [
    "biz_NegativeReview_df = pd.DataFrame(dict_Biz_Negative_review.items(), columns =[\"business_id\", \"text\"])\n",
    "biz_NegativeReview_df.head(2)"
   ]
  },
  {
   "cell_type": "code",
   "execution_count": 29,
   "metadata": {
    "collapsed": false
   },
   "outputs": [
    {
     "data": {
      "text/html": [
       "<div>\n",
       "<table border=\"1\" class=\"dataframe\">\n",
       "  <thead>\n",
       "    <tr>\n",
       "      <th></th>\n",
       "      <th></th>\n",
       "      <th>stars_of_business</th>\n",
       "      <th>AVG_stars_category</th>\n",
       "      <th>AVG_stars_category_round</th>\n",
       "      <th>business_id</th>\n",
       "      <th>categories</th>\n",
       "    </tr>\n",
       "    <tr>\n",
       "      <th></th>\n",
       "      <th></th>\n",
       "      <th>mean</th>\n",
       "      <th>mean</th>\n",
       "      <th>mean</th>\n",
       "      <th></th>\n",
       "      <th></th>\n",
       "    </tr>\n",
       "    <tr>\n",
       "      <th>business_id</th>\n",
       "      <th>categories</th>\n",
       "      <th></th>\n",
       "      <th></th>\n",
       "      <th></th>\n",
       "      <th></th>\n",
       "      <th></th>\n",
       "    </tr>\n",
       "  </thead>\n",
       "  <tbody>\n",
       "    <tr>\n",
       "      <th>--5jkZ3-nUPZxUvtcbr8Uw</th>\n",
       "      <th>Greek</th>\n",
       "      <td>4.5</td>\n",
       "      <td>3.963733</td>\n",
       "      <td>4.0</td>\n",
       "      <td>--5jkZ3-nUPZxUvtcbr8Uw</td>\n",
       "      <td>Greek</td>\n",
       "    </tr>\n",
       "    <tr>\n",
       "      <th>--BlvDO_RG2yElKu9XA1_g</th>\n",
       "      <th>Chinese</th>\n",
       "      <td>4.0</td>\n",
       "      <td>3.618266</td>\n",
       "      <td>3.5</td>\n",
       "      <td>--BlvDO_RG2yElKu9XA1_g</td>\n",
       "      <td>Chinese</td>\n",
       "    </tr>\n",
       "  </tbody>\n",
       "</table>\n",
       "</div>"
      ],
      "text/plain": [
       "                                  stars_of_business AVG_stars_category  \\\n",
       "                                               mean               mean   \n",
       "business_id            categories                                        \n",
       "--5jkZ3-nUPZxUvtcbr8Uw Greek                    4.5           3.963733   \n",
       "--BlvDO_RG2yElKu9XA1_g Chinese                  4.0           3.618266   \n",
       "\n",
       "                                  AVG_stars_category_round  \\\n",
       "                                                      mean   \n",
       "business_id            categories                            \n",
       "--5jkZ3-nUPZxUvtcbr8Uw Greek                           4.0   \n",
       "--BlvDO_RG2yElKu9XA1_g Chinese                         3.5   \n",
       "\n",
       "                                              business_id categories  \n",
       "                                                                      \n",
       "business_id            categories                                     \n",
       "--5jkZ3-nUPZxUvtcbr8Uw Greek       --5jkZ3-nUPZxUvtcbr8Uw      Greek  \n",
       "--BlvDO_RG2yElKu9XA1_g Chinese     --BlvDO_RG2yElKu9XA1_g    Chinese  "
      ]
     },
     "execution_count": 29,
     "metadata": {},
     "output_type": "execute_result"
    }
   ],
   "source": [
    "#group by and creatint index for new format of table\n",
    "biz_category_Negative = Business_Review_Negative_AZ.iloc[:,[0,2,3,5,6]].groupby(['business_id','categories']).agg(['mean'])\n",
    "biz_category_Negative['business_id']=map(lambda x: x[0], biz_category_Negative.index)\n",
    "biz_category_Negative['categories']=map(lambda x: x[1], biz_category_Negative.index)\n",
    "biz_category_Negative.head(2)"
   ]
  },
  {
   "cell_type": "code",
   "execution_count": 32,
   "metadata": {
    "collapsed": false
   },
   "outputs": [
    {
     "data": {
      "text/html": [
       "<div>\n",
       "<table border=\"1\" class=\"dataframe\">\n",
       "  <thead>\n",
       "    <tr style=\"text-align: right;\">\n",
       "      <th></th>\n",
       "      <th>business_id</th>\n",
       "      <th>text</th>\n",
       "      <th>(stars_of_business, mean)</th>\n",
       "      <th>(AVG_stars_category, mean)</th>\n",
       "      <th>(AVG_stars_category_round, mean)</th>\n",
       "      <th>(categories, )</th>\n",
       "    </tr>\n",
       "  </thead>\n",
       "  <tbody>\n",
       "    <tr>\n",
       "      <th>0</th>\n",
       "      <td>OlpyplEJ_c_hFxyand_Wxw</td>\n",
       "      <td>[[I drove to Inchins on their very first day a...</td>\n",
       "      <td>3.0</td>\n",
       "      <td>3.685509</td>\n",
       "      <td>3.5</td>\n",
       "      <td>Asian Fusion</td>\n",
       "    </tr>\n",
       "    <tr>\n",
       "      <th>1</th>\n",
       "      <td>kDGN_1dlCmIqEoKflTwwdw</td>\n",
       "      <td>[[Stopped here to get some food real quick. I ...</td>\n",
       "      <td>2.5</td>\n",
       "      <td>3.716936</td>\n",
       "      <td>3.5</td>\n",
       "      <td>American</td>\n",
       "    </tr>\n",
       "  </tbody>\n",
       "</table>\n",
       "</div>"
      ],
      "text/plain": [
       "              business_id                                               text  \\\n",
       "0  OlpyplEJ_c_hFxyand_Wxw  [[I drove to Inchins on their very first day a...   \n",
       "1  kDGN_1dlCmIqEoKflTwwdw  [[Stopped here to get some food real quick. I ...   \n",
       "\n",
       "   (stars_of_business, mean)  (AVG_stars_category, mean)  \\\n",
       "0                        3.0                    3.685509   \n",
       "1                        2.5                    3.716936   \n",
       "\n",
       "   (AVG_stars_category_round, mean) (categories, )  \n",
       "0                               3.5   Asian Fusion  \n",
       "1                               3.5       American  "
      ]
     },
     "execution_count": 32,
     "metadata": {},
     "output_type": "execute_result"
    }
   ],
   "source": [
    "#merging the two postive tables\n",
    "Biz_NegativeReview_Category_final = biz_NegativeReview_df.merge(biz_category_Negative,on=\"business_id\", how='left')\n",
    "Biz_NegativeReview_Category_final.head(2)"
   ]
  },
  {
   "cell_type": "code",
   "execution_count": 35,
   "metadata": {
    "collapsed": false
   },
   "outputs": [
    {
     "data": {
      "text/html": [
       "<div>\n",
       "<table border=\"1\" class=\"dataframe\">\n",
       "  <thead>\n",
       "    <tr style=\"text-align: right;\">\n",
       "      <th></th>\n",
       "      <th>business_id</th>\n",
       "      <th>text</th>\n",
       "      <th>stars_of_business</th>\n",
       "      <th>AVG_stars_category</th>\n",
       "      <th>AVG_stars_category_round</th>\n",
       "      <th>categories</th>\n",
       "    </tr>\n",
       "  </thead>\n",
       "  <tbody>\n",
       "    <tr>\n",
       "      <th>0</th>\n",
       "      <td>OlpyplEJ_c_hFxyand_Wxw</td>\n",
       "      <td>[[I drove to Inchins on their very first day a...</td>\n",
       "      <td>3.0</td>\n",
       "      <td>3.685509</td>\n",
       "      <td>3.5</td>\n",
       "      <td>Asian Fusion</td>\n",
       "    </tr>\n",
       "    <tr>\n",
       "      <th>1</th>\n",
       "      <td>kDGN_1dlCmIqEoKflTwwdw</td>\n",
       "      <td>[[Stopped here to get some food real quick. I ...</td>\n",
       "      <td>2.5</td>\n",
       "      <td>3.716936</td>\n",
       "      <td>3.5</td>\n",
       "      <td>American</td>\n",
       "    </tr>\n",
       "  </tbody>\n",
       "</table>\n",
       "</div>"
      ],
      "text/plain": [
       "              business_id                                               text  \\\n",
       "0  OlpyplEJ_c_hFxyand_Wxw  [[I drove to Inchins on their very first day a...   \n",
       "1  kDGN_1dlCmIqEoKflTwwdw  [[Stopped here to get some food real quick. I ...   \n",
       "\n",
       "   stars_of_business  AVG_stars_category  \\\n",
       "0                3.0            3.685509   \n",
       "1                2.5            3.716936   \n",
       "\n",
       "                                       AVG_stars_category_round    categories  \n",
       "0                                                3.5             Asian Fusion  \n",
       "1                                                3.5                 American  "
      ]
     },
     "execution_count": 35,
     "metadata": {},
     "output_type": "execute_result"
    }
   ],
   "source": [
    "Biz_NegativeReview_Category_final.columns = ['business_id','text','stars_of_business','AVG_stars_category','\\\n",
    "                                    AVG_stars_category_round','categories']\n",
    "Biz_NegativeReview_Category_final.head(2)"
   ]
  },
  {
   "cell_type": "code",
   "execution_count": 36,
   "metadata": {
    "collapsed": false
   },
   "outputs": [
    {
     "data": {
      "text/plain": [
       "9098"
      ]
     },
     "execution_count": 36,
     "metadata": {},
     "output_type": "execute_result"
    }
   ],
   "source": [
    "len(Biz_NegativeReview_Category_final)"
   ]
  },
  {
   "cell_type": "code",
   "execution_count": 37,
   "metadata": {
    "collapsed": true
   },
   "outputs": [],
   "source": [
    "#convert to scv\n",
    "Biz_NegativeReview_Category_final.to_csv(\"Rdata//Joshua//LDA//Biz_NegativeReview_Category_09162016.csv\", header=True)"
   ]
  },
  {
   "cell_type": "code",
   "execution_count": null,
   "metadata": {
    "collapsed": true
   },
   "outputs": [],
   "source": [
    "##########################################################################################################################3333\n",
    "###########################################Combined  ALL #################################################################3333\n",
    "############################################################################################################################"
   ]
  },
  {
   "cell_type": "code",
   "execution_count": 6,
   "metadata": {
    "collapsed": false
   },
   "outputs": [
    {
     "data": {
      "text/html": [
       "<div>\n",
       "<table border=\"1\" class=\"dataframe\">\n",
       "  <thead>\n",
       "    <tr style=\"text-align: right;\">\n",
       "      <th></th>\n",
       "      <th>business_id</th>\n",
       "      <th>text</th>\n",
       "      <th>stars_of_business</th>\n",
       "      <th>categories</th>\n",
       "      <th>stars_of_individual_review</th>\n",
       "      <th>AVG_stars_category</th>\n",
       "      <th>AVG_stars_category_round</th>\n",
       "    </tr>\n",
       "  </thead>\n",
       "  <tbody>\n",
       "    <tr>\n",
       "      <th>0</th>\n",
       "      <td>x5Mv61CnZLohZWxfCVCPTQ</td>\n",
       "      <td>Not the same Domino's pizza I ate too much of ...</td>\n",
       "      <td>3.0</td>\n",
       "      <td>Chicken Wings</td>\n",
       "      <td>4.0</td>\n",
       "      <td>3.104846</td>\n",
       "      <td>3.0</td>\n",
       "    </tr>\n",
       "  </tbody>\n",
       "</table>\n",
       "</div>"
      ],
      "text/plain": [
       "              business_id                                               text  \\\n",
       "0  x5Mv61CnZLohZWxfCVCPTQ  Not the same Domino's pizza I ate too much of ...   \n",
       "\n",
       "   stars_of_business     categories  stars_of_individual_review  \\\n",
       "0                3.0  Chicken Wings                         4.0   \n",
       "\n",
       "   AVG_stars_category  AVG_stars_category_round  \n",
       "0            3.104846                       3.0  "
      ]
     },
     "execution_count": 6,
     "metadata": {},
     "output_type": "execute_result"
    }
   ],
   "source": [
    "\n",
    "Business_Review_All_AZ = pd.read_csv('Rdata\\\\Joshua\\\\LDA\\\\Revise_NLP_table.csv')\n",
    "Business_Review_All_AZ = Business_Review_All_AZ.iloc[:,1:]\n",
    "Business_Review_All_AZ.head(1)"
   ]
  },
  {
   "cell_type": "code",
   "execution_count": 7,
   "metadata": {
    "collapsed": false
   },
   "outputs": [
    {
     "data": {
      "text/plain": [
       "[('x5Mv61CnZLohZWxfCVCPTQ',\n",
       "  \"Not the same Domino's pizza I ate too much of in College. Vastly different and a major improvement! Ordering on-line couldn't be easier, and pizza was made exactly how I ordered. Piping hot, flavorful, better than average crust, nicely blackened in all the right spots, tasty toppings, robust sauce. Friendly delivery by John. Price is fair. Much, much better than Pizza Hut!\"),\n",
       " ('x5Mv61CnZLohZWxfCVCPTQ',\n",
       "  \"Easy ordering-on-line. Made exactly as I asked for. Piping hot. Sauce is SO, SO much better than their old stuff. Crust is like having an order of buttery-garlic soft bread sticks with your pizza. Delivery is super-fast, with charming, pleasant personality driver(s.) Our guests were apprehensive about eating Domino's from past experiences, and after the first bite, were practically inhaling pieces it was that good! I can tell that it is hand-made fresh. The dough is light and airy, the cheeses are tangy and savory, the meats are generous and better quality than most. My first choice in chain pizzas.\")]"
      ]
     },
     "execution_count": 7,
     "metadata": {},
     "output_type": "execute_result"
    }
   ],
   "source": [
    "#creating tuple of biz id and review\n",
    "tup_Biz_All_review = zip(Business_Review_All_AZ['business_id'] , Business_Review_All_AZ['text'] )\n",
    "tup_Biz_All_review[0:2]"
   ]
  },
  {
   "cell_type": "code",
   "execution_count": 8,
   "metadata": {
    "collapsed": true
   },
   "outputs": [],
   "source": [
    "from collections import defaultdict\n",
    "\n",
    "dict_Biz_All_review = {}\n",
    "for k,v in tup_Biz_All_review:\n",
    "    dict_Biz_All_review.setdefault(k,[]).append([v])"
   ]
  },
  {
   "cell_type": "code",
   "execution_count": 9,
   "metadata": {
    "collapsed": false
   },
   "outputs": [
    {
     "data": {
      "text/html": [
       "<div>\n",
       "<table border=\"1\" class=\"dataframe\">\n",
       "  <thead>\n",
       "    <tr style=\"text-align: right;\">\n",
       "      <th></th>\n",
       "      <th>business_id</th>\n",
       "      <th>text</th>\n",
       "    </tr>\n",
       "  </thead>\n",
       "  <tbody>\n",
       "    <tr>\n",
       "      <th>0</th>\n",
       "      <td>OlpyplEJ_c_hFxyand_Wxw</td>\n",
       "      <td>[[I drove to Inchins on their very first day a...</td>\n",
       "    </tr>\n",
       "    <tr>\n",
       "      <th>1</th>\n",
       "      <td>ny1T3dzXf8_ySXkFv37qwQ</td>\n",
       "      <td>[[Really good pizza and they do a ton of local...</td>\n",
       "    </tr>\n",
       "  </tbody>\n",
       "</table>\n",
       "</div>"
      ],
      "text/plain": [
       "              business_id                                               text\n",
       "0  OlpyplEJ_c_hFxyand_Wxw  [[I drove to Inchins on their very first day a...\n",
       "1  ny1T3dzXf8_ySXkFv37qwQ  [[Really good pizza and they do a ton of local..."
      ]
     },
     "execution_count": 9,
     "metadata": {},
     "output_type": "execute_result"
    }
   ],
   "source": [
    "biz_AllReview_df = pd.DataFrame(dict_Biz_All_review.items(), columns =[\"business_id\", \"text\"])\n",
    "biz_AllReview_df.head(2)"
   ]
  },
  {
   "cell_type": "code",
   "execution_count": 10,
   "metadata": {
    "collapsed": false
   },
   "outputs": [
    {
     "data": {
      "text/html": [
       "<div>\n",
       "<table border=\"1\" class=\"dataframe\">\n",
       "  <thead>\n",
       "    <tr>\n",
       "      <th></th>\n",
       "      <th></th>\n",
       "      <th>stars_of_business</th>\n",
       "      <th>AVG_stars_category</th>\n",
       "      <th>AVG_stars_category_round</th>\n",
       "      <th>business_id</th>\n",
       "      <th>categories</th>\n",
       "    </tr>\n",
       "    <tr>\n",
       "      <th></th>\n",
       "      <th></th>\n",
       "      <th>mean</th>\n",
       "      <th>mean</th>\n",
       "      <th>mean</th>\n",
       "      <th></th>\n",
       "      <th></th>\n",
       "    </tr>\n",
       "    <tr>\n",
       "      <th>business_id</th>\n",
       "      <th>categories</th>\n",
       "      <th></th>\n",
       "      <th></th>\n",
       "      <th></th>\n",
       "      <th></th>\n",
       "      <th></th>\n",
       "    </tr>\n",
       "  </thead>\n",
       "  <tbody>\n",
       "    <tr>\n",
       "      <th>--5jkZ3-nUPZxUvtcbr8Uw</th>\n",
       "      <th>Greek</th>\n",
       "      <td>4.5</td>\n",
       "      <td>3.963733</td>\n",
       "      <td>4.0</td>\n",
       "      <td>--5jkZ3-nUPZxUvtcbr8Uw</td>\n",
       "      <td>Greek</td>\n",
       "    </tr>\n",
       "    <tr>\n",
       "      <th>--BlvDO_RG2yElKu9XA1_g</th>\n",
       "      <th>Chinese</th>\n",
       "      <td>4.0</td>\n",
       "      <td>3.618266</td>\n",
       "      <td>3.5</td>\n",
       "      <td>--BlvDO_RG2yElKu9XA1_g</td>\n",
       "      <td>Chinese</td>\n",
       "    </tr>\n",
       "  </tbody>\n",
       "</table>\n",
       "</div>"
      ],
      "text/plain": [
       "                                  stars_of_business AVG_stars_category  \\\n",
       "                                               mean               mean   \n",
       "business_id            categories                                        \n",
       "--5jkZ3-nUPZxUvtcbr8Uw Greek                    4.5           3.963733   \n",
       "--BlvDO_RG2yElKu9XA1_g Chinese                  4.0           3.618266   \n",
       "\n",
       "                                  AVG_stars_category_round  \\\n",
       "                                                      mean   \n",
       "business_id            categories                            \n",
       "--5jkZ3-nUPZxUvtcbr8Uw Greek                           4.0   \n",
       "--BlvDO_RG2yElKu9XA1_g Chinese                         3.5   \n",
       "\n",
       "                                              business_id categories  \n",
       "                                                                      \n",
       "business_id            categories                                     \n",
       "--5jkZ3-nUPZxUvtcbr8Uw Greek       --5jkZ3-nUPZxUvtcbr8Uw      Greek  \n",
       "--BlvDO_RG2yElKu9XA1_g Chinese     --BlvDO_RG2yElKu9XA1_g    Chinese  "
      ]
     },
     "execution_count": 10,
     "metadata": {},
     "output_type": "execute_result"
    }
   ],
   "source": [
    "#group by and creatint index for new format of table\n",
    "biz_category_All = Business_Review_All_AZ.iloc[:,[0,2,3,5,6]].groupby(['business_id','categories']).agg(['mean'])\n",
    "biz_category_All['business_id']=map(lambda x: x[0], biz_category_All.index)\n",
    "biz_category_All['categories']=map(lambda x: x[1], biz_category_All.index)\n",
    "biz_category_All.head(2)"
   ]
  },
  {
   "cell_type": "code",
   "execution_count": 11,
   "metadata": {
    "collapsed": false
   },
   "outputs": [
    {
     "name": "stderr",
     "output_type": "stream",
     "text": [
      "C:\\Users\\Samriddhi\\Anaconda2\\lib\\site-packages\\pandas\\tools\\merge.py:205: UserWarning: merging between different levels can give an unintended result (1 levels on the left, 2 on the right)\n",
      "  warnings.warn(msg, UserWarning)\n"
     ]
    },
    {
     "data": {
      "text/html": [
       "<div>\n",
       "<table border=\"1\" class=\"dataframe\">\n",
       "  <thead>\n",
       "    <tr style=\"text-align: right;\">\n",
       "      <th></th>\n",
       "      <th>business_id</th>\n",
       "      <th>text</th>\n",
       "      <th>(stars_of_business, mean)</th>\n",
       "      <th>(AVG_stars_category, mean)</th>\n",
       "      <th>(AVG_stars_category_round, mean)</th>\n",
       "      <th>(categories, )</th>\n",
       "    </tr>\n",
       "  </thead>\n",
       "  <tbody>\n",
       "    <tr>\n",
       "      <th>0</th>\n",
       "      <td>OlpyplEJ_c_hFxyand_Wxw</td>\n",
       "      <td>[[I drove to Inchins on their very first day a...</td>\n",
       "      <td>3.0</td>\n",
       "      <td>3.685509</td>\n",
       "      <td>3.5</td>\n",
       "      <td>Asian Fusion</td>\n",
       "    </tr>\n",
       "    <tr>\n",
       "      <th>1</th>\n",
       "      <td>ny1T3dzXf8_ySXkFv37qwQ</td>\n",
       "      <td>[[Really good pizza and they do a ton of local...</td>\n",
       "      <td>4.0</td>\n",
       "      <td>3.670256</td>\n",
       "      <td>3.5</td>\n",
       "      <td>Pizza</td>\n",
       "    </tr>\n",
       "  </tbody>\n",
       "</table>\n",
       "</div>"
      ],
      "text/plain": [
       "              business_id                                               text  \\\n",
       "0  OlpyplEJ_c_hFxyand_Wxw  [[I drove to Inchins on their very first day a...   \n",
       "1  ny1T3dzXf8_ySXkFv37qwQ  [[Really good pizza and they do a ton of local...   \n",
       "\n",
       "   (stars_of_business, mean)  (AVG_stars_category, mean)  \\\n",
       "0                        3.0                    3.685509   \n",
       "1                        4.0                    3.670256   \n",
       "\n",
       "   (AVG_stars_category_round, mean) (categories, )  \n",
       "0                               3.5   Asian Fusion  \n",
       "1                               3.5          Pizza  "
      ]
     },
     "execution_count": 11,
     "metadata": {},
     "output_type": "execute_result"
    }
   ],
   "source": [
    "#merging the two postive tables\n",
    "Biz_AllReview_Category_final = biz_AllReview_df.merge(biz_category_All,on=\"business_id\", how='left')\n",
    "Biz_AllReview_Category_final.head(2)"
   ]
  },
  {
   "cell_type": "code",
   "execution_count": 12,
   "metadata": {
    "collapsed": false
   },
   "outputs": [
    {
     "data": {
      "text/html": [
       "<div>\n",
       "<table border=\"1\" class=\"dataframe\">\n",
       "  <thead>\n",
       "    <tr style=\"text-align: right;\">\n",
       "      <th></th>\n",
       "      <th>business_id</th>\n",
       "      <th>text</th>\n",
       "      <th>stars_of_business</th>\n",
       "      <th>AVG_stars_category</th>\n",
       "      <th>AVG_stars_category_round</th>\n",
       "      <th>categories</th>\n",
       "    </tr>\n",
       "  </thead>\n",
       "  <tbody>\n",
       "    <tr>\n",
       "      <th>0</th>\n",
       "      <td>OlpyplEJ_c_hFxyand_Wxw</td>\n",
       "      <td>[[I drove to Inchins on their very first day a...</td>\n",
       "      <td>3.0</td>\n",
       "      <td>3.685509</td>\n",
       "      <td>3.5</td>\n",
       "      <td>Asian Fusion</td>\n",
       "    </tr>\n",
       "    <tr>\n",
       "      <th>1</th>\n",
       "      <td>ny1T3dzXf8_ySXkFv37qwQ</td>\n",
       "      <td>[[Really good pizza and they do a ton of local...</td>\n",
       "      <td>4.0</td>\n",
       "      <td>3.670256</td>\n",
       "      <td>3.5</td>\n",
       "      <td>Pizza</td>\n",
       "    </tr>\n",
       "  </tbody>\n",
       "</table>\n",
       "</div>"
      ],
      "text/plain": [
       "              business_id                                               text  \\\n",
       "0  OlpyplEJ_c_hFxyand_Wxw  [[I drove to Inchins on their very first day a...   \n",
       "1  ny1T3dzXf8_ySXkFv37qwQ  [[Really good pizza and they do a ton of local...   \n",
       "\n",
       "   stars_of_business  AVG_stars_category  \\\n",
       "0                3.0            3.685509   \n",
       "1                4.0            3.670256   \n",
       "\n",
       "                                       AVG_stars_category_round    categories  \n",
       "0                                                3.5             Asian Fusion  \n",
       "1                                                3.5                    Pizza  "
      ]
     },
     "execution_count": 12,
     "metadata": {},
     "output_type": "execute_result"
    }
   ],
   "source": [
    "Biz_AllReview_Category_final.columns = ['business_id','text','stars_of_business','AVG_stars_category','\\\n",
    "                                    AVG_stars_category_round','categories']\n",
    "Biz_AllReview_Category_final.head(2)"
   ]
  },
  {
   "cell_type": "code",
   "execution_count": 13,
   "metadata": {
    "collapsed": false
   },
   "outputs": [
    {
     "data": {
      "text/plain": [
       "9427"
      ]
     },
     "execution_count": 13,
     "metadata": {},
     "output_type": "execute_result"
    }
   ],
   "source": [
    "len(Biz_AllReview_Category_final)"
   ]
  },
  {
   "cell_type": "code",
   "execution_count": 14,
   "metadata": {
    "collapsed": false
   },
   "outputs": [
    {
     "data": {
      "text/html": [
       "<div>\n",
       "<table border=\"1\" class=\"dataframe\">\n",
       "  <thead>\n",
       "    <tr style=\"text-align: right;\">\n",
       "      <th></th>\n",
       "      <th>business_id</th>\n",
       "      <th>latitude</th>\n",
       "      <th>longitude</th>\n",
       "      <th>attributes.Price.Range</th>\n",
       "    </tr>\n",
       "  </thead>\n",
       "  <tbody>\n",
       "    <tr>\n",
       "      <th>0</th>\n",
       "      <td>x5Mv61CnZLohZWxfCVCPTQ</td>\n",
       "      <td>33.479482</td>\n",
       "      <td>-112.073681</td>\n",
       "      <td>1.0</td>\n",
       "    </tr>\n",
       "    <tr>\n",
       "      <th>1</th>\n",
       "      <td>2ZnCITVa0abGce4gZ6RhIw</td>\n",
       "      <td>33.468547</td>\n",
       "      <td>-112.075085</td>\n",
       "      <td>1.0</td>\n",
       "    </tr>\n",
       "  </tbody>\n",
       "</table>\n",
       "</div>"
      ],
      "text/plain": [
       "              business_id   latitude   longitude  attributes.Price.Range\n",
       "0  x5Mv61CnZLohZWxfCVCPTQ  33.479482 -112.073681                     1.0\n",
       "1  2ZnCITVa0abGce4gZ6RhIw  33.468547 -112.075085                     1.0"
      ]
     },
     "execution_count": 14,
     "metadata": {},
     "output_type": "execute_result"
    }
   ],
   "source": [
    "Business_latlong_AZ = pd.read_csv('Rdata\\\\Joshua\\\\LDA\\\\Final_table_for_predition_done_by_Sam.csv')\n",
    "Business_latlong_AZ = Business_latlong_AZ.loc[:,['business_id','latitude', 'longitude','attributes.Price.Range']]\n",
    "Business_latlong_AZ.head(2)"
   ]
  },
  {
   "cell_type": "code",
   "execution_count": 15,
   "metadata": {
    "collapsed": false
   },
   "outputs": [
    {
     "data": {
      "text/plain": [
       "9427"
      ]
     },
     "execution_count": 15,
     "metadata": {},
     "output_type": "execute_result"
    }
   ],
   "source": [
    "len(Business_latlong_AZ)"
   ]
  },
  {
   "cell_type": "code",
   "execution_count": 19,
   "metadata": {
    "collapsed": false
   },
   "outputs": [
    {
     "data": {
      "text/html": [
       "<div>\n",
       "<table border=\"1\" class=\"dataframe\">\n",
       "  <thead>\n",
       "    <tr style=\"text-align: right;\">\n",
       "      <th></th>\n",
       "      <th>business_id</th>\n",
       "      <th>text</th>\n",
       "      <th>stars_of_business</th>\n",
       "      <th>AVG_stars_category</th>\n",
       "      <th>AVG_stars_category_round</th>\n",
       "      <th>categories</th>\n",
       "      <th>latitude</th>\n",
       "      <th>longitude</th>\n",
       "      <th>attributes.Price.Range</th>\n",
       "    </tr>\n",
       "  </thead>\n",
       "  <tbody>\n",
       "    <tr>\n",
       "      <th>0</th>\n",
       "      <td>OlpyplEJ_c_hFxyand_Wxw</td>\n",
       "      <td>[[I drove to Inchins on their very first day a...</td>\n",
       "      <td>3.0</td>\n",
       "      <td>3.685509</td>\n",
       "      <td>3.5</td>\n",
       "      <td>Asian Fusion</td>\n",
       "      <td>33.575816</td>\n",
       "      <td>-111.926234</td>\n",
       "      <td>2.0</td>\n",
       "    </tr>\n",
       "    <tr>\n",
       "      <th>1</th>\n",
       "      <td>ny1T3dzXf8_ySXkFv37qwQ</td>\n",
       "      <td>[[Really good pizza and they do a ton of local...</td>\n",
       "      <td>4.0</td>\n",
       "      <td>3.670256</td>\n",
       "      <td>3.5</td>\n",
       "      <td>Pizza</td>\n",
       "      <td>33.137514</td>\n",
       "      <td>-111.540872</td>\n",
       "      <td>2.0</td>\n",
       "    </tr>\n",
       "  </tbody>\n",
       "</table>\n",
       "</div>"
      ],
      "text/plain": [
       "              business_id                                               text  \\\n",
       "0  OlpyplEJ_c_hFxyand_Wxw  [[I drove to Inchins on their very first day a...   \n",
       "1  ny1T3dzXf8_ySXkFv37qwQ  [[Really good pizza and they do a ton of local...   \n",
       "\n",
       "   stars_of_business  AVG_stars_category  \\\n",
       "0                3.0            3.685509   \n",
       "1                4.0            3.670256   \n",
       "\n",
       "                                       AVG_stars_category_round    categories  \\\n",
       "0                                                3.5             Asian Fusion   \n",
       "1                                                3.5                    Pizza   \n",
       "\n",
       "    latitude   longitude  attributes.Price.Range  \n",
       "0  33.575816 -111.926234                     2.0  \n",
       "1  33.137514 -111.540872                     2.0  "
      ]
     },
     "execution_count": 19,
     "metadata": {},
     "output_type": "execute_result"
    }
   ],
   "source": [
    "#merging the two postive tables\n",
    "Biz_AllReview_Category_latlong_final = Biz_AllReview_Category_final.merge(Business_latlong_AZ,on=\"business_id\", how='left')\n",
    "Biz_AllReview_Category_latlong_final.head(2)"
   ]
  },
  {
   "cell_type": "code",
   "execution_count": 20,
   "metadata": {
    "collapsed": true
   },
   "outputs": [],
   "source": [
    "Biz_AllReview_Category_latlong_final.rename(columns={'attributes.Price.Range':'PriceRange'}, inplace=True)\n"
   ]
  },
  {
   "cell_type": "code",
   "execution_count": 21,
   "metadata": {
    "collapsed": false
   },
   "outputs": [
    {
     "data": {
      "text/html": [
       "<div>\n",
       "<table border=\"1\" class=\"dataframe\">\n",
       "  <thead>\n",
       "    <tr style=\"text-align: right;\">\n",
       "      <th></th>\n",
       "      <th>business_id</th>\n",
       "      <th>text</th>\n",
       "      <th>stars_of_business</th>\n",
       "      <th>AVG_stars_category</th>\n",
       "      <th>AVG_stars_category_round</th>\n",
       "      <th>categories</th>\n",
       "      <th>latitude</th>\n",
       "      <th>longitude</th>\n",
       "      <th>PriceRange</th>\n",
       "    </tr>\n",
       "  </thead>\n",
       "  <tbody>\n",
       "    <tr>\n",
       "      <th>0</th>\n",
       "      <td>OlpyplEJ_c_hFxyand_Wxw</td>\n",
       "      <td>[[I drove to Inchins on their very first day a...</td>\n",
       "      <td>3.0</td>\n",
       "      <td>3.685509</td>\n",
       "      <td>3.5</td>\n",
       "      <td>Asian Fusion</td>\n",
       "      <td>33.575816</td>\n",
       "      <td>-111.926234</td>\n",
       "      <td>2.0</td>\n",
       "    </tr>\n",
       "  </tbody>\n",
       "</table>\n",
       "</div>"
      ],
      "text/plain": [
       "              business_id                                               text  \\\n",
       "0  OlpyplEJ_c_hFxyand_Wxw  [[I drove to Inchins on their very first day a...   \n",
       "\n",
       "   stars_of_business  AVG_stars_category  \\\n",
       "0                3.0            3.685509   \n",
       "\n",
       "                                       AVG_stars_category_round    categories  \\\n",
       "0                                                3.5             Asian Fusion   \n",
       "\n",
       "    latitude   longitude  PriceRange  \n",
       "0  33.575816 -111.926234         2.0  "
      ]
     },
     "execution_count": 21,
     "metadata": {},
     "output_type": "execute_result"
    }
   ],
   "source": [
    "Biz_AllReview_Category_latlong_final.head(1)"
   ]
  },
  {
   "cell_type": "code",
   "execution_count": 22,
   "metadata": {
    "collapsed": true
   },
   "outputs": [],
   "source": [
    "#convert to scv\n",
    "Biz_AllReview_Category_latlong_final.to_csv(\"Rdata//Joshua//LDA//Biz_AllReview_Category_09172016.csv\", header=True)"
   ]
  },
  {
   "cell_type": "code",
   "execution_count": null,
   "metadata": {
    "collapsed": true
   },
   "outputs": [],
   "source": [
    "################################################################################################################################3\n",
    "##############################################################################################################################\n",
    "##########################################################################################################################33"
   ]
  },
  {
   "cell_type": "code",
   "execution_count": 23,
   "metadata": {
    "collapsed": false
   },
   "outputs": [
    {
     "data": {
      "text/html": [
       "<div>\n",
       "<table border=\"1\" class=\"dataframe\">\n",
       "  <thead>\n",
       "    <tr style=\"text-align: right;\">\n",
       "      <th></th>\n",
       "      <th>business_id</th>\n",
       "      <th>stars_of_business</th>\n",
       "      <th>AVG_stars_category</th>\n",
       "      <th>AVG_stars_category_round</th>\n",
       "      <th>categories</th>\n",
       "      <th>latitude</th>\n",
       "      <th>longitude</th>\n",
       "      <th>PriceRange</th>\n",
       "    </tr>\n",
       "  </thead>\n",
       "  <tbody>\n",
       "    <tr>\n",
       "      <th>0</th>\n",
       "      <td>OlpyplEJ_c_hFxyand_Wxw</td>\n",
       "      <td>3.0</td>\n",
       "      <td>3.685509</td>\n",
       "      <td>3.5</td>\n",
       "      <td>Asian Fusion</td>\n",
       "      <td>33.575816</td>\n",
       "      <td>-111.926234</td>\n",
       "      <td>2.0</td>\n",
       "    </tr>\n",
       "    <tr>\n",
       "      <th>1</th>\n",
       "      <td>ny1T3dzXf8_ySXkFv37qwQ</td>\n",
       "      <td>4.0</td>\n",
       "      <td>3.670256</td>\n",
       "      <td>3.5</td>\n",
       "      <td>Pizza</td>\n",
       "      <td>33.137514</td>\n",
       "      <td>-111.540872</td>\n",
       "      <td>2.0</td>\n",
       "    </tr>\n",
       "    <tr>\n",
       "      <th>2</th>\n",
       "      <td>VZYMInkjRJVHwXVFqeoMWg</td>\n",
       "      <td>3.5</td>\n",
       "      <td>3.282601</td>\n",
       "      <td>3.5</td>\n",
       "      <td>Fast Food</td>\n",
       "      <td>33.486194</td>\n",
       "      <td>-112.073895</td>\n",
       "      <td>1.0</td>\n",
       "    </tr>\n",
       "    <tr>\n",
       "      <th>3</th>\n",
       "      <td>qcylQLL-fXdFHrdXC2jZFw</td>\n",
       "      <td>2.5</td>\n",
       "      <td>3.716936</td>\n",
       "      <td>3.5</td>\n",
       "      <td>American</td>\n",
       "      <td>33.424106</td>\n",
       "      <td>-111.939826</td>\n",
       "      <td>1.0</td>\n",
       "    </tr>\n",
       "    <tr>\n",
       "      <th>4</th>\n",
       "      <td>ke3RFq3mHEAoJE_kkRNhiQ</td>\n",
       "      <td>3.5</td>\n",
       "      <td>3.758429</td>\n",
       "      <td>4.0</td>\n",
       "      <td>Barbeque</td>\n",
       "      <td>33.433975</td>\n",
       "      <td>-111.903833</td>\n",
       "      <td>2.0</td>\n",
       "    </tr>\n",
       "  </tbody>\n",
       "</table>\n",
       "</div>"
      ],
      "text/plain": [
       "              business_id  stars_of_business  AVG_stars_category  \\\n",
       "0  OlpyplEJ_c_hFxyand_Wxw                3.0            3.685509   \n",
       "1  ny1T3dzXf8_ySXkFv37qwQ                4.0            3.670256   \n",
       "2  VZYMInkjRJVHwXVFqeoMWg                3.5            3.282601   \n",
       "3  qcylQLL-fXdFHrdXC2jZFw                2.5            3.716936   \n",
       "4  ke3RFq3mHEAoJE_kkRNhiQ                3.5            3.758429   \n",
       "\n",
       "                                       AVG_stars_category_round    categories  \\\n",
       "0                                                3.5             Asian Fusion   \n",
       "1                                                3.5                    Pizza   \n",
       "2                                                3.5                Fast Food   \n",
       "3                                                3.5                 American   \n",
       "4                                                4.0                 Barbeque   \n",
       "\n",
       "    latitude   longitude  PriceRange  \n",
       "0  33.575816 -111.926234         2.0  \n",
       "1  33.137514 -111.540872         2.0  \n",
       "2  33.486194 -112.073895         1.0  \n",
       "3  33.424106 -111.939826         1.0  \n",
       "4  33.433975 -111.903833         2.0  "
      ]
     },
     "execution_count": 23,
     "metadata": {},
     "output_type": "execute_result"
    }
   ],
   "source": [
    "Biz_noReviews = Biz_AllReview_Category_latlong_final.iloc[:,[0,2,3,4,5,6,7,8]]\n",
    "Biz_noReviews.head()"
   ]
  },
  {
   "cell_type": "code",
   "execution_count": 24,
   "metadata": {
    "collapsed": false
   },
   "outputs": [],
   "source": [
    "#convert to scv\n",
    "Biz_noReviews.to_csv(\"Rdata//Joshua//LDA//Biz_NoReview_latlong_09172016.csv\", header=True)"
   ]
  },
  {
   "cell_type": "code",
   "execution_count": 25,
   "metadata": {
    "collapsed": false
   },
   "outputs": [
    {
     "data": {
      "text/plain": [
       "9427"
      ]
     },
     "execution_count": 25,
     "metadata": {},
     "output_type": "execute_result"
    }
   ],
   "source": [
    "len(Biz_noReviews)"
   ]
  },
  {
   "cell_type": "code",
   "execution_count": null,
   "metadata": {
    "collapsed": true
   },
   "outputs": [],
   "source": [
    "###############################################################################################################################3\n",
    "######################################333 Graph Model ######################################################################33\n",
    "##############################################################################################################################\n"
   ]
  },
  {
   "cell_type": "code",
   "execution_count": 27,
   "metadata": {
    "collapsed": false
   },
   "outputs": [
    {
     "data": {
      "text/html": [
       "<div>\n",
       "<table border=\"1\" class=\"dataframe\">\n",
       "  <thead>\n",
       "    <tr style=\"text-align: right;\">\n",
       "      <th></th>\n",
       "      <th>text</th>\n",
       "      <th>categories</th>\n",
       "    </tr>\n",
       "  </thead>\n",
       "  <tbody>\n",
       "    <tr>\n",
       "      <th>0</th>\n",
       "      <td>OK OK... as a Proud Italian I hope my momma do...</td>\n",
       "      <td>Chicken Wings</td>\n",
       "    </tr>\n",
       "    <tr>\n",
       "      <th>1</th>\n",
       "      <td>My husband and I just moved to Phoenix from No...</td>\n",
       "      <td>Thai</td>\n",
       "    </tr>\n",
       "  </tbody>\n",
       "</table>\n",
       "</div>"
      ],
      "text/plain": [
       "                                                text     categories\n",
       "0  OK OK... as a Proud Italian I hope my momma do...  Chicken Wings\n",
       "1  My husband and I just moved to Phoenix from No...           Thai"
      ]
     },
     "execution_count": 27,
     "metadata": {},
     "output_type": "execute_result"
    }
   ],
   "source": [
    "Graph_Model_AZ = pd.read_csv('Rdata\\\\Joshua\\\\LDA\\\\graph_model_Second_cuisine_by_review.csv')\n",
    "Graph_Model_AZ = Graph_Model_AZ.iloc[:,1:]\n",
    "Graph_Model_AZ.head(2)"
   ]
  },
  {
   "cell_type": "code",
   "execution_count": 28,
   "metadata": {
    "collapsed": false
   },
   "outputs": [
    {
     "data": {
      "text/plain": [
       "61792"
      ]
     },
     "execution_count": 28,
     "metadata": {},
     "output_type": "execute_result"
    }
   ],
   "source": [
    "len(Graph_Model_AZ)"
   ]
  },
  {
   "cell_type": "code",
   "execution_count": 29,
   "metadata": {
    "collapsed": false
   },
   "outputs": [
    {
     "data": {
      "text/plain": [
       "[('Chicken Wings',\n",
       "  'OK OK... as a Proud Italian I hope my momma don\\'t see this! I\\'m actually going to give D\\'moes a 5 star rating for a few reasons. Last Friday, me and my 2 brothers left the suns game, and proceed to put a few \"adult\" beverages back. At around 2am, when Haney\\'s shut down, we had an overwhelming craving for crap pizza (its better than our normal Jack in Box at 3am run that usually ends up with someone puking in the drive thru line because the smell of the taco sauce is so amazing). Low and behold, the ONLY spot that was still taking orders (up to 2am!) was D\\'moes. Now, 1st off - I live at Summitt (by BOB). These guys gladly delivered to me, all the way down there! Major props for that. 2 - They understood me... considering I don\\'t remember ordering the pizza (I woke up to pizza and wings boxes all over my pad, and me saying \"who ordered pizza\" then I burped... wing sauce and vodka is a healthy combo. 3 - apparently, after checking my voice mail, the driver was pounding on our door for about 5 minutes (we were REALLY jamming out to Rock Band, in case you don\\'t know, were pretty awesome. Wikipedia that Ish ladies and Gent\\'s; Kansas City Bullriders). Well, the driver and my door man both called 3 times. I\\'m assuming the driver eventually came in and grabbed the bass guitar and strummed it out. Maybe he had a slice with us? Who really knows these things. However, I do know that I was insanely impressed with D\\'moes... from the left overs I ate the next when I could remember. It was pretty darn good. Between the awesome\\'ness that is called \"their customer service\" and the legit taste it left in my mouth, I\\'m a believer, unless, if I say I\\'m not, will I get a commercial?... hmmmm.... Potential there....'),\n",
       " ('Thai',\n",
       "  \"My husband and I just moved to Phoenix from Northern California, the land of good Thai, and Wild Thaiger was the first Thai place we tried in the Valley of the Sun. Let's just say that the quality ingredients and enticing flavors made us feel a little less homesick. The prices were not rock-bottom, but I am always willing to pay a little more for good food and larger portions, both of which Wild Thaiger offers. The papaya salad was refreshing and really authentic, although the shrimp were a little fishy for our tastes. The soup we had was also very flavorful and best of all, the chicken in it was actual pieces of chicken breast (often, the chicken in soup is small pieces of dark meat). The Mussaman curry was also a lot better than most places we have had it - often, restaurants use pieces of flank or strip steak, but a more authentic version, like the one we had here, has more stew-like cuts of almost-braised beef. Also a real winner were the spicy clear/glass noodles with vegetables and chicken. And lest I forgot alcohol - the crowning glory of any meal - the specialty drinks offered seemed like they would be too sweet or weak, so my sister and I got Cosmos. They were appropriately strong and actually quite good! All around, a really great experience.\")]"
      ]
     },
     "execution_count": 29,
     "metadata": {},
     "output_type": "execute_result"
    }
   ],
   "source": [
    "#creating tuple of biz id and review\n",
    "tup_Review_Category = zip(Graph_Model_AZ['categories'] , Graph_Model_AZ['text'] )\n",
    "tup_Review_Category[0:2]"
   ]
  },
  {
   "cell_type": "code",
   "execution_count": 30,
   "metadata": {
    "collapsed": true
   },
   "outputs": [],
   "source": [
    "from collections import defaultdict\n",
    "\n",
    "dict_Categories_review = {}\n",
    "for k,v in tup_Review_Category:\n",
    "    dict_Categories_review.setdefault(k,[]).append([v])"
   ]
  },
  {
   "cell_type": "code",
   "execution_count": 32,
   "metadata": {
    "collapsed": false
   },
   "outputs": [
    {
     "data": {
      "text/html": [
       "<div>\n",
       "<table border=\"1\" class=\"dataframe\">\n",
       "  <thead>\n",
       "    <tr style=\"text-align: right;\">\n",
       "      <th></th>\n",
       "      <th>categories</th>\n",
       "      <th>text</th>\n",
       "    </tr>\n",
       "  </thead>\n",
       "  <tbody>\n",
       "    <tr>\n",
       "      <th>0</th>\n",
       "      <td>Brazilian</td>\n",
       "      <td>[[Fogo e Brasa is a Brazilian Steakhouse in Ph...</td>\n",
       "    </tr>\n",
       "    <tr>\n",
       "      <th>1</th>\n",
       "      <td>Chicken Wings</td>\n",
       "      <td>[[OK OK... as a Proud Italian I hope my momma ...</td>\n",
       "    </tr>\n",
       "    <tr>\n",
       "      <th>2</th>\n",
       "      <td>Malaysian</td>\n",
       "      <td>[[I've tried a few more dishes and have been v...</td>\n",
       "    </tr>\n",
       "    <tr>\n",
       "      <th>3</th>\n",
       "      <td>Vietnamese</td>\n",
       "      <td>[[I have been going to \"TLC\" for a couple year...</td>\n",
       "    </tr>\n",
       "    <tr>\n",
       "      <th>4</th>\n",
       "      <td>Tapas/Small Plates</td>\n",
       "      <td>[[A HIDDEN GEM in Scottsdale.  You have to alm...</td>\n",
       "    </tr>\n",
       "  </tbody>\n",
       "</table>\n",
       "</div>"
      ],
      "text/plain": [
       "           categories                                               text\n",
       "0           Brazilian  [[Fogo e Brasa is a Brazilian Steakhouse in Ph...\n",
       "1       Chicken Wings  [[OK OK... as a Proud Italian I hope my momma ...\n",
       "2           Malaysian  [[I've tried a few more dishes and have been v...\n",
       "3          Vietnamese  [[I have been going to \"TLC\" for a couple year...\n",
       "4  Tapas/Small Plates  [[A HIDDEN GEM in Scottsdale.  You have to alm..."
      ]
     },
     "execution_count": 32,
     "metadata": {},
     "output_type": "execute_result"
    }
   ],
   "source": [
    "Category_Review_df = pd.DataFrame(dict_Categories_review.items(), columns =[\"categories\", \"text\"])\n",
    "Category_Review_df.head(5)"
   ]
  },
  {
   "cell_type": "code",
   "execution_count": 33,
   "metadata": {
    "collapsed": false
   },
   "outputs": [
    {
     "data": {
      "text/plain": [
       "82"
      ]
     },
     "execution_count": 33,
     "metadata": {},
     "output_type": "execute_result"
    }
   ],
   "source": [
    "len(Category_Review_df)"
   ]
  },
  {
   "cell_type": "code",
   "execution_count": 34,
   "metadata": {
    "collapsed": true
   },
   "outputs": [],
   "source": [
    "#convert to scv\n",
    "Category_Review_df.to_csv(\"Rdata//Joshua//LDA//Review_Category_AZ_09172016.csv\", header=True)"
   ]
  },
  {
   "cell_type": "code",
   "execution_count": null,
   "metadata": {
    "collapsed": true
   },
   "outputs": [],
   "source": []
  },
  {
   "cell_type": "code",
   "execution_count": null,
   "metadata": {
    "collapsed": true
   },
   "outputs": [],
   "source": []
  }
 ],
 "metadata": {
  "anaconda-cloud": {},
  "kernelspec": {
   "display_name": "Python [Root]",
   "language": "python",
   "name": "Python [Root]"
  },
  "language_info": {
   "codemirror_mode": {
    "name": "ipython",
    "version": 2
   },
   "file_extension": ".py",
   "mimetype": "text/x-python",
   "name": "python",
   "nbconvert_exporter": "python",
   "pygments_lexer": "ipython2",
   "version": "2.7.12"
  }
 },
 "nbformat": 4,
 "nbformat_minor": 0
}
